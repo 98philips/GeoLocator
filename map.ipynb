{
 "cells": [
  {
   "cell_type": "code",
   "execution_count": 1,
   "metadata": {},
   "outputs": [],
   "source": [
    "from os import environ\n",
    "import gmaps"
   ]
  },
  {
   "cell_type": "code",
   "execution_count": 2,
   "metadata": {},
   "outputs": [],
   "source": [
    "from find_sellers import getPoints"
   ]
  },
  {
   "cell_type": "code",
   "execution_count": 3,
   "metadata": {},
   "outputs": [
    {
     "name": "stdout",
     "output_type": "stream",
     "text": [
      "('point 1', Decimal('11.307677'), Decimal('75.764161'), 0.0805963778246152)\n",
      "('s2', Decimal('11.306299'), Decimal('75.764336'), 0.1300605959592322)\n",
      "('s1', Decimal('11.309870'), Decimal('75.755275'), 0.9538008555394089)\n"
     ]
    },
    {
     "data": {
      "text/plain": [
       "['point 1', 's2', 's1']"
      ]
     },
     "execution_count": 3,
     "metadata": {},
     "output_type": "execute_result"
    }
   ],
   "source": [
    "lat = 11.307213686206195 #float(input(\"Latitude: \"))\n",
    "lon = 75.76359255756473  #float(input(\"Longitude: \"))\n",
    "radius = 1 #float(input(\"Radius in KM: \"))\n",
    "\n",
    "(points,names) = getPoints(lat, lon, radius)\n",
    "points\n",
    "names"
   ]
  },
  {
   "cell_type": "code",
   "execution_count": 4,
   "metadata": {},
   "outputs": [
    {
     "data": {
      "application/vnd.jupyter.widget-view+json": {
       "model_id": "e12a2fa0415b47e3baa9b5be78712151",
       "version_major": 2,
       "version_minor": 0
      },
      "text/plain": [
       "Figure(layout=FigureLayout(height='420px'))"
      ]
     },
     "metadata": {},
     "output_type": "display_data"
    }
   ],
   "source": [
    "gmaps.configure(api_key=environ[\"MAPS_API_KEY\"])\n",
    "fig = gmaps.figure()\n",
    "marker = gmaps.marker_layer(points, info_box_content=names)\n",
    "fig.add_layer(marker)\n",
    "fig"
   ]
  },
  {
   "cell_type": "markdown",
   "metadata": {},
   "source": [
    "![result](sample_map.png)"
   ]
  },
  {
   "cell_type": "code",
   "execution_count": null,
   "metadata": {},
   "outputs": [],
   "source": []
  }
 ],
 "metadata": {
  "kernelspec": {
   "display_name": "Python 3",
   "language": "python",
   "name": "python3"
  },
  "language_info": {
   "codemirror_mode": {
    "name": "ipython",
    "version": 3
   },
   "file_extension": ".py",
   "mimetype": "text/x-python",
   "name": "python",
   "nbconvert_exporter": "python",
   "pygments_lexer": "ipython3",
   "version": "3.8.2"
  },
  "metadata": {
   "interpreter": {
    "hash": "31f2aee4e71d21fbe5cf8b01ff0e069b9275f58929596ceb00d14d90e3e16cd6"
   }
  }
 },
 "nbformat": 4,
 "nbformat_minor": 2
}
