{
 "cells": [
  {
   "cell_type": "code",
   "execution_count": 1,
   "metadata": {},
   "outputs": [],
   "source": [
    "from os import environ\n",
    "import gmaps"
   ]
  },
  {
   "cell_type": "code",
   "execution_count": 11,
   "metadata": {},
   "outputs": [
    {
     "output_type": "stream",
     "name": "stdout",
     "text": [
      "('Palakkada Bus Stand', Decimal('11.309806'), Decimal('75.768916'), 0.287867399760804)\n('point 1', Decimal('11.307677'), Decimal('75.764161'), 0.31820152256777273)\n('s2', Decimal('11.306299'), Decimal('75.764336'), 0.3502209721898998)\nINPUT lat: 11.30796, lon: 75.767065, radius: 1.0\n[(11.309806, 75.768916), (11.307677, 75.764161), (11.306299, 75.764336), (11.30796, 75.767065)]\n['Palakkada Bus Stand', 'point 1', 's2', 'INPUT']\n"
     ]
    },
    {
     "output_type": "display_data",
     "data": {
      "text/plain": "Figure(layout=FigureLayout(height='420px'))",
      "application/vnd.jupyter.widget-view+json": {
       "version_major": 2,
       "version_minor": 0,
       "model_id": "c30522f4bbb843c6b0ea4583ac81813c"
      }
     },
     "metadata": {}
    }
   ],
   "source": [
    "from find_sellers import getPoints\n",
    "lat = float(input(\"Latitude: \"))\n",
    "lon = float(input(\"Longitude: \"))\n",
    "radius = float(input(\"Radius in KM: \"))\n",
    "\n",
    "(points,names) = getPoints(lat, lon, radius)\n",
    "\n",
    "points.append((lat,lon))\n",
    "names.append(\"INPUT\")\n",
    "\n",
    "print(f\"INPUT lat: {lat}, lon: {lon}, radius: {radius}\")\n",
    "print(points)\n",
    "print(names)\n",
    "\n",
    "gmaps.configure(api_key=environ[\"MAPS_API_KEY\"])\n",
    "fig = gmaps.figure()\n",
    "marker = gmaps.marker_layer(points, info_box_content=names)\n",
    "fig.add_layer(marker)\n",
    "fig"
   ]
  },
  {
   "cell_type": "markdown",
   "metadata": {},
   "source": [
    "![result](sample_map.png)"
   ]
  },
  {
   "cell_type": "code",
   "execution_count": null,
   "metadata": {},
   "outputs": [],
   "source": []
  }
 ],
 "metadata": {
  "kernelspec": {
   "name": "python382jvsc74a57bd031f2aee4e71d21fbe5cf8b01ff0e069b9275f58929596ceb00d14d90e3e16cd6",
   "display_name": "Python 3.8.2 64-bit"
  },
  "language_info": {
   "codemirror_mode": {
    "name": "ipython",
    "version": 3
   },
   "file_extension": ".py",
   "mimetype": "text/x-python",
   "name": "python",
   "nbconvert_exporter": "python",
   "pygments_lexer": "ipython3",
   "version": "3.8.2"
  },
  "metadata": {
   "interpreter": {
    "hash": "31f2aee4e71d21fbe5cf8b01ff0e069b9275f58929596ceb00d14d90e3e16cd6"
   }
  }
 },
 "nbformat": 4,
 "nbformat_minor": 2
}